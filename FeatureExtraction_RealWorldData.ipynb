{
 "cells": [
  {
   "cell_type": "code",
   "execution_count": 1,
   "metadata": {},
   "outputs": [],
   "source": [
    "import sys\n",
    "from spgbn import *\n",
    "from scipy.sparse import coo_matrix\n",
    "import numpy as np\n",
    "import os\n",
    "sys.path.append('./data')\n",
    "sys.path.append('./data/20news-bydate')\n",
    "%load_ext autoreload\n",
    "%autoreload 2"
   ]
  },
  {
   "cell_type": "markdown",
   "metadata": {},
   "source": [
    "### Load data"
   ]
  },
  {
   "cell_type": "markdown",
   "metadata": {},
   "source": [
    "+ 1th col: the index of document; (1~11269 for train and 1~7505 for test)\n",
    "\n",
    "+ 2th col: the index of word; \n",
    "\n",
    "+ 3th col: the number of the word appearing in the document."
   ]
  },
  {
   "cell_type": "code",
   "execution_count": 2,
   "metadata": {},
   "outputs": [
    {
     "name": "stdout",
     "output_type": "stream",
     "text": [
      "(1467345, 3)\n",
      "(967874, 3)\n"
     ]
    }
   ],
   "source": [
    "train_data = np.loadtxt('./data/20news-bydate/train.data').astype(int)\n",
    "test_data = np.loadtxt('./data/20news-bydate/test.data').astype(int)\n",
    "print(train_data.shape)\n",
    "print(test_data.shape)"
   ]
  },
  {
   "cell_type": "code",
   "execution_count": 3,
   "metadata": {},
   "outputs": [
    {
     "name": "stdout",
     "output_type": "stream",
     "text": [
      "(2435219, 3)\n"
     ]
    }
   ],
   "source": [
    "test_data[:,0] = test_data[:,0] + np.max(train_data[:,0])\n",
    "train_test = np.vstack((train_data, test_data))\n",
    "print(train_test.shape)"
   ]
  },
  {
   "cell_type": "markdown",
   "metadata": {},
   "source": [
    "V = 61188 means that the dim of bag-of-words is 61188.\n",
    "\n",
    "N = 18774 means that the num of doc is 18774 (11269 + 7505)."
   ]
  },
  {
   "cell_type": "code",
   "execution_count": 4,
   "metadata": {},
   "outputs": [
    {
     "name": "stdout",
     "output_type": "stream",
     "text": [
      "(61188, 18774)\n"
     ]
    }
   ],
   "source": [
    "row = train_test[:,1] - 1\n",
    "col = train_test[:,0] - 1\n",
    "data = train_test[:,2]\n",
    "X_all = coo_matrix((data, (row, col))).toarray()\n",
    "print(X_all.shape)"
   ]
  },
  {
   "cell_type": "code",
   "execution_count": 8,
   "metadata": {},
   "outputs": [
    {
     "name": "stdout",
     "output_type": "stream",
     "text": [
      "[ 497 2084  490 ...    2    2    2]\n",
      "61188\n"
     ]
    }
   ],
   "source": [
    "print(X_all.sum(axis = 1)) # the num of each word appearing in all docs\n",
    "print(len(X_all.sum(axis = 1))) # the num of words"
   ]
  },
  {
   "cell_type": "markdown",
   "metadata": {},
   "source": [
    "### Load label"
   ]
  },
  {
   "cell_type": "code",
   "execution_count": 5,
   "metadata": {},
   "outputs": [
    {
     "name": "stdout",
     "output_type": "stream",
     "text": [
      "(18774,)\n"
     ]
    }
   ],
   "source": [
    "train_label = np.loadtxt('./data/20news-bydate/train.label').astype(int)\n",
    "test_label = np.loadtxt('./data/20news-bydate/test.label').astype(int)\n",
    "Y_all = np.hstack((train_label, test_label))\n",
    "# The class of doc ordered according to the indexes of documents (there are 18774 documents in total).\n",
    "print(Y_all.shape)"
   ]
  },
  {
   "cell_type": "code",
   "execution_count": 11,
   "metadata": {},
   "outputs": [
    {
     "name": "stdout",
     "output_type": "stream",
     "text": [
      "[    0     1     2 ... 11266 11267 11268]\n",
      "[11269 11270 11271 ... 18771 18772 18773]\n"
     ]
    }
   ],
   "source": [
    "# useless\n",
    "train_idx = np.arange(len(train_label))\n",
    "test_idx = np.arange(len(test_label)) + len(train_label)\n",
    "print(train_idx)\n",
    "print(test_idx)"
   ]
  },
  {
   "cell_type": "markdown",
   "metadata": {},
   "source": [
    "### Filter according to document class"
   ]
  },
  {
   "cell_type": "code",
   "execution_count": 12,
   "metadata": {},
   "outputs": [
    {
     "name": "stdout",
     "output_type": "stream",
     "text": [
      "[   0    1    2 ... 1182 1183 1184]\n",
      "[1185 1186 1187 1188 1189 1190 1191 1192 1193 1194 1195 1196 1197 1198\n",
      " 1199 1200 1201 1202 1203 1204 1205 1206 1207 1208 1209 1210 1211 1212\n",
      " 1213 1214 1215 1216 1217 1218 1219 1220 1221 1222 1223 1224 1225 1226\n",
      " 1227 1228 1229 1230 1231 1232 1233 1234 1235 1236 1237 1238 1239 1240\n",
      " 1241 1242 1243 1244 1245 1246 1247 1248 1249 1250 1251 1252 1253 1254\n",
      " 1255 1256 1257 1258 1259 1260 1261 1262 1263 1264 1265 1266 1267 1268\n",
      " 1269 1270 1271 1272 1273 1274 1275 1276 1277 1278 1279 1280 1281 1282\n",
      " 1283 1284 1285 1286 1287 1288 1289 1290 1291 1292 1293 1294 1295 1296\n",
      " 1297 1298 1299 1300 1301 1302 1303 1304 1305 1306 1307 1308 1309 1310\n",
      " 1311 1312 1313 1314 1315 1316 1317 1318 1319 1320 1321 1322 1323 1324\n",
      " 1325 1326 1327 1328 1329 1330 1331 1332 1333 1334 1335 1336 1337 1338\n",
      " 1339 1340 1341 1342 1343 1344 1345 1346 1347 1348 1349 1350 1351 1352\n",
      " 1353 1354 1355 1356 1357 1358 1359 1360 1361 1362 1363 1364 1365 1366\n",
      " 1367 1368 1369 1370 1371 1372 1373 1374 1375 1376 1377 1378 1379 1380\n",
      " 1381 1382 1383 1384 1385 1386 1387 1388 1389 1390 1391 1392 1393 1394\n",
      " 1395 1396 1397 1398 1399 1400 1401 1402 1403 1404 1405 1406 1407 1408\n",
      " 1409 1410 1411 1412 1413 1414 1415 1416 1417 1418 1419 1420 1421 1422\n",
      " 1423 1424 1425 1426 1427 1428 1429 1430 1431 1432 1433 1434 1435 1436\n",
      " 1437 1438 1439 1440 1441 1442 1443 1444 1445 1446 1447 1448 1449 1450\n",
      " 1451 1452 1453 1454 1455 1456 1457 1458 1459 1460 1461 1462 1463 1464\n",
      " 1465 1466 1467 1468 1469 1470 1471 1472 1473 1474 1475 1476 1477 1478\n",
      " 1479 1480 1481 1482 1483 1484 1485 1486 1487 1488 1489 1490 1491 1492\n",
      " 1493 1494 1495 1496 1497 1498 1499 1500 1501 1502 1503 1504 1505 1506\n",
      " 1507 1508 1509 1510 1511 1512 1513 1514 1515 1516 1517 1518 1519 1520\n",
      " 1521 1522 1523 1524 1525 1526 1527 1528 1529 1530 1531 1532 1533 1534\n",
      " 1535 1536 1537 1538 1539 1540 1541 1542 1543 1544 1545 1546 1547 1548\n",
      " 1549 1550 1551 1552 1553 1554 1555 1556 1557 1558 1559 1560 1561 1562\n",
      " 1563 1564 1565 1566 1567 1568 1569 1570 1571 1572 1573 1574 1575 1576\n",
      " 1577 1578 1579 1580 1581 1582 1583 1584 1585 1586 1587 1588 1589 1590\n",
      " 1591 1592 1593 1594 1595 1596 1597 1598 1599 1600 1601 1602 1603 1604\n",
      " 1605 1606 1607 1608 1609 1610 1611 1612 1613 1614 1615 1616 1617 1618\n",
      " 1619 1620 1621 1622 1623 1624 1625 1626 1627 1628 1629 1630 1631 1632\n",
      " 1633 1634 1635 1636 1637 1638 1639 1640 1641 1642 1643 1644 1645 1646\n",
      " 1647 1648 1649 1650 1651 1652 1653 1654 1655 1656 1657 1658 1659 1660\n",
      " 1661 1662 1663 1664 1665 1666 1667 1668 1669 1670 1671 1672 1673 1674\n",
      " 1675 1676 1677 1678 1679 1680 1681 1682 1683 1684 1685 1686 1687 1688\n",
      " 1689 1690 1691 1692 1693 1694 1695 1696 1697 1698 1699 1700 1701 1702\n",
      " 1703 1704 1705 1706 1707 1708 1709 1710 1711 1712 1713 1714 1715 1716\n",
      " 1717 1718 1719 1720 1721 1722 1723 1724 1725 1726 1727 1728 1729 1730\n",
      " 1731 1732 1733 1734 1735 1736 1737 1738 1739 1740 1741 1742 1743 1744\n",
      " 1745 1746 1747 1748 1749 1750 1751 1752 1753 1754 1755 1756 1757 1758\n",
      " 1759 1760 1761 1762 1763 1764 1765 1766 1767 1768 1769 1770 1771 1772\n",
      " 1773 1774 1775 1776 1777 1778 1779 1780 1781 1782 1783 1784 1785 1786\n",
      " 1787 1788 1789 1790 1791 1792 1793 1794 1795 1796 1797 1798 1799 1800\n",
      " 1801 1802 1803 1804 1805 1806 1807 1808 1809 1810 1811 1812 1813 1814\n",
      " 1815 1816 1817 1818 1819 1820 1821 1822 1823 1824 1825 1826 1827 1828\n",
      " 1829 1830 1831 1832 1833 1834 1835 1836 1837 1838 1839 1840 1841 1842\n",
      " 1843 1844 1845 1846 1847 1848 1849 1850 1851 1852 1853 1854 1855 1856\n",
      " 1857 1858 1859 1860 1861 1862 1863 1864 1865 1866 1867 1868 1869 1870\n",
      " 1871 1872 1873 1874 1875 1876 1877 1878 1879 1880 1881 1882 1883 1884\n",
      " 1885 1886 1887 1888 1889 1890 1891 1892 1893 1894 1895 1896 1897 1898\n",
      " 1899 1900 1901 1902 1903 1904 1905 1906 1907 1908 1909 1910 1911 1912\n",
      " 1913 1914 1915 1916 1917 1918 1919 1920 1921 1922 1923 1924 1925 1926\n",
      " 1927 1928 1929 1930 1931 1932 1933 1934 1935 1936 1937 1938 1939 1940\n",
      " 1941 1942 1943 1944 1945 1946 1947 1948 1949 1950 1951 1952 1953 1954\n",
      " 1955 1956 1957 1958 1959 1960 1961 1962 1963 1964 1965 1966 1967 1968\n",
      " 1969 1970]\n"
     ]
    }
   ],
   "source": [
    "# to count the num of docs belong to class 13 and class 14\n",
    "train_label_1314 = train_label[(train_label == 13) | (train_label == 14)]\n",
    "test_label_1314 = test_label[(test_label == 13) | (test_label == 14)]\n",
    "\n",
    "train_label_1314_idx = np.arange(len(train_label_1314))\n",
    "test_label_1314_idx = np.arange(len(test_label_1314)) + len(train_label_1314)\n",
    "# There are 1971 documents belong to 13 or 14 classes.\n",
    "print(train_label_1314_idx)\n",
    "print(test_label_1314_idx)"
   ]
  },
  {
   "cell_type": "code",
   "execution_count": 13,
   "metadata": {},
   "outputs": [
    {
     "name": "stdout",
     "output_type": "stream",
     "text": [
      "(61188, 1971)\n"
     ]
    }
   ],
   "source": [
    "# dex is the bool array to filter the documents belong to 13 or 14 out of all 18774 documents\n",
    "dex = (Y_all == 13) | (Y_all == 14)\n",
    "X_all = X_all[:,dex]\n",
    "print(X_all.shape)"
   ]
  },
  {
   "cell_type": "code",
   "execution_count": 14,
   "metadata": {},
   "outputs": [
    {
     "name": "stdout",
     "output_type": "stream",
     "text": [
      "[ 18 118   0 ...   0   0   0]\n"
     ]
    }
   ],
   "source": [
    "print(X_all.sum(axis = 1))"
   ]
  },
  {
   "cell_type": "markdown",
   "metadata": {},
   "source": [
    "### Filter according to words"
   ]
  },
  {
   "cell_type": "code",
   "execution_count": 11,
   "metadata": {},
   "outputs": [
    {
     "name": "stdout",
     "output_type": "stream",
     "text": [
      "The num of stopwords: 319\n",
      "The num of vocabularies: 61188\n"
     ]
    }
   ],
   "source": [
    "with open('./data/stop-word-list.txt', 'r') as file:\n",
    "    stopwords = [line.strip() for line in file.readlines()]\n",
    "print('The num of stopwords:', len(stopwords))\n",
    "with open('./data/20news-bydate/vocabulary.txt', 'r') as file:\n",
    "    WO = [line.strip() for line in file.readlines()]\n",
    "print('The num of vocabularies:', len(WO))"
   ]
  },
  {
   "cell_type": "code",
   "execution_count": 12,
   "metadata": {},
   "outputs": [
    {
     "name": "stdout",
     "output_type": "stream",
     "text": [
      "The sum of dex: 60883\n",
      "The length of remaining WO: 60883\n",
      "The shape of remaining X_all: (60883, 1971)\n"
     ]
    }
   ],
   "source": [
    "dex = [1 if word not in stopwords else 0 for word in WO]\n",
    "print('The sum of dex:', np.sum(dex))\n",
    "WO = [word for i, word in enumerate(WO) if dex[i]]\n",
    "print('The length of remaining WO:', len(WO))\n",
    "X_all = X_all[np.array(dex).astype(bool), :]\n",
    "print('The shape of remaining X_all:', X_all.shape)"
   ]
  },
  {
   "cell_type": "code",
   "execution_count": 13,
   "metadata": {},
   "outputs": [
    {
     "name": "stdout",
     "output_type": "stream",
     "text": [
      "The length of remaining WO: 7729\n",
      "The shape of remaining X_all: (7729, 1971)\n"
     ]
    }
   ],
   "source": [
    "tmp = np.sum(X_all, axis = 1)\n",
    "tmp = tmp >= 5\n",
    "WO = [word for i, word in enumerate(WO) if tmp[i]]\n",
    "print('The length of remaining WO:', len(WO))\n",
    "X_all = X_all[tmp, :]\n",
    "print('The shape of remaining X_all:', X_all.shape)"
   ]
  },
  {
   "cell_type": "markdown",
   "metadata": {},
   "source": [
    "## Set model parameters"
   ]
  },
  {
   "cell_type": "code",
   "execution_count": 9,
   "metadata": {},
   "outputs": [
    {
     "ename": "",
     "evalue": "",
     "output_type": "error",
     "traceback": [
      "\u001b[1;31mThe Kernel crashed while executing code in the current cell or a previous cell. \n",
      "\u001b[1;31mPlease review the code in the cell(s) to identify a possible cause of the failure. \n",
      "\u001b[1;31mClick <a href='https://aka.ms/vscodeJupyterKernelCrash'>here</a> for more info. \n",
      "\u001b[1;31mView Jupyter <a href='command:jupyter.viewOutput'>log</a> for further details."
     ]
    }
   ],
   "source": [
    "# Set the number of nodes of each layer, the length of K is the num of layers. \n",
    "K = [800]\n",
    "L = [100]\n",
    "\n",
    "spgbn = SPGBN(K, L, device = 'cpu')\n",
    "spgbn.initial(X_all)\n",
    "spgbn.test(X_all, num_epochs=100)"
   ]
  }
 ],
 "metadata": {
  "kernelspec": {
   "display_name": "torch",
   "language": "python",
   "name": "python3"
  },
  "language_info": {
   "codemirror_mode": {
    "name": "ipython",
    "version": 3
   },
   "file_extension": ".py",
   "mimetype": "text/x-python",
   "name": "python",
   "nbconvert_exporter": "python",
   "pygments_lexer": "ipython3",
   "version": "3.11.7"
  }
 },
 "nbformat": 4,
 "nbformat_minor": 2
}
